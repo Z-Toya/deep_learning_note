{
  "nbformat": 4,
  "nbformat_minor": 0,
  "metadata": {
    "colab": {
      "provenance": [],
      "authorship_tag": "ABX9TyP45lhJHfnu4nIXOlzGiAtx",
      "include_colab_link": true
    },
    "kernelspec": {
      "name": "python3",
      "display_name": "Python 3"
    },
    "language_info": {
      "name": "python"
    }
  },
  "cells": [
    {
      "cell_type": "markdown",
      "metadata": {
        "id": "view-in-github",
        "colab_type": "text"
      },
      "source": [
        "<a href=\"https://colab.research.google.com/github/Z-Toya/deep_learning_note/blob/main/code/%E6%95%B0%E6%8D%AE%E5%88%86%E6%9E%90/pandas.ipynb\" target=\"_parent\"><img src=\"https://colab.research.google.com/assets/colab-badge.svg\" alt=\"Open In Colab\"/></a>"
      ]
    },
    {
      "cell_type": "code",
      "execution_count": null,
      "metadata": {
        "colab": {
          "base_uri": "https://localhost:8080/"
        },
        "id": "IcreVAHr0VaY",
        "outputId": "43295110-290b-45d1-d98b-281486518773"
      },
      "outputs": [
        {
          "output_type": "stream",
          "name": "stdout",
          "text": [
            "0    1\n",
            "1    2\n",
            "2    3\n",
            "3    4\n",
            "4    5\n",
            "dtype: int64\n",
            "A    1\n",
            "B    2\n",
            "C    3\n",
            "D    4\n",
            "E    5\n",
            "dtype: int64\n",
            "A    1\n",
            "B    2\n",
            "C    3\n",
            "D    4\n",
            "E    5\n",
            "Name: 月份, dtype: int64\n"
          ]
        }
      ],
      "source": [
        "# Series的创建\n",
        "import pandas as pd\n",
        "\n",
        "s = pd.Series([1,2,3,4,5])\n",
        "print(s)\n",
        "\n",
        "# 自定义索引\n",
        "s = pd.Series([1,2,3,4,5], index=['A','B','C','D','E'])\n",
        "print(s)\n",
        "\n",
        "# 定义name\n",
        "s = pd.Series([1,2,3,4,5], index=['A','B','C','D','E'], name='月份')\n",
        "print(s)"
      ]
    },
    {
      "cell_type": "code",
      "source": [
        "# 通过字典创建\n",
        "s = pd.Series({'a':1, 'b':2, 'c':3, 'd':4, 'e':5})\n",
        "print(s)\n",
        "s1 = pd.Series(s,index=['a','c'])\n",
        "print(s1)"
      ],
      "metadata": {
        "colab": {
          "base_uri": "https://localhost:8080/"
        },
        "id": "yL-I_8zp5TRv",
        "outputId": "3a04db35-5ae9-483c-9d87-6cfc08019060"
      },
      "execution_count": null,
      "outputs": [
        {
          "output_type": "stream",
          "name": "stdout",
          "text": [
            "a    1\n",
            "b    2\n",
            "c    3\n",
            "d    4\n",
            "e    5\n",
            "dtype: int64\n",
            "a    1\n",
            "c    3\n",
            "dtype: int64\n"
          ]
        }
      ]
    },
    {
      "cell_type": "code",
      "source": [
        "print(s)\n",
        "print(s.index)\n",
        "print(s.values)\n",
        "print(s.shape, s.ndim, s.size)\n",
        "s.name = 'test'\n",
        "print(s.dtype, s.name)\n",
        "print(s.loc['a':'c'])\n",
        "print(s.iloc[0:2])\n",
        "print(s.at['a']) # 不支持切片\n",
        "print(s.iat[0]) # 不支持切片"
      ],
      "metadata": {
        "colab": {
          "base_uri": "https://localhost:8080/"
        },
        "id": "7-TUJr_86Qvf",
        "outputId": "780c10f0-11a3-4ab9-afee-64f1edaf3f1d"
      },
      "execution_count": null,
      "outputs": [
        {
          "output_type": "stream",
          "name": "stdout",
          "text": [
            "a    1\n",
            "b    2\n",
            "c    3\n",
            "d    4\n",
            "e    5\n",
            "Name: test, dtype: int64\n",
            "Index(['a', 'b', 'c', 'd', 'e'], dtype='object')\n",
            "[1 2 3 4 5]\n",
            "(5,) 1 5\n",
            "int64 test\n",
            "a    1\n",
            "b    2\n",
            "c    3\n",
            "Name: test, dtype: int64\n",
            "a    1\n",
            "b    2\n",
            "Name: test, dtype: int64\n",
            "1\n",
            "1\n"
          ]
        }
      ]
    },
    {
      "cell_type": "code",
      "source": [
        "# 访问数据\n",
        "print(s)\n",
        "# print(s[1]) # 不推荐使用，容易混淆\n",
        "print(s['a']) # 通过标签\n",
        "print(s[s<3]) # 布尔索引\n",
        "s['f'] = 6\n",
        "print(s.head()) # 返回前五行数据\n",
        "print(s.tail()) # 返回后五行数据"
      ],
      "metadata": {
        "colab": {
          "base_uri": "https://localhost:8080/"
        },
        "id": "d22QWZQl8cUl",
        "outputId": "18ffffa0-6971-481b-90f6-7913c28c194b"
      },
      "execution_count": null,
      "outputs": [
        {
          "output_type": "stream",
          "name": "stdout",
          "text": [
            "a    1\n",
            "b    2\n",
            "c    3\n",
            "d    4\n",
            "e    5\n",
            "Name: test, dtype: int64\n",
            "1\n",
            "a    1\n",
            "b    2\n",
            "Name: test, dtype: int64\n",
            "a    1\n",
            "b    2\n",
            "c    3\n",
            "d    4\n",
            "e    5\n",
            "Name: test, dtype: int64\n",
            "b    2\n",
            "c    3\n",
            "d    4\n",
            "e    5\n",
            "f    6\n",
            "Name: test, dtype: int64\n"
          ]
        }
      ]
    },
    {
      "cell_type": "code",
      "source": [
        "# 常见函数\n",
        "import pandas as pd\n",
        "import numpy as np\n",
        "\n",
        "s = pd.Series([10,2,np.nan,None,3,4,5], index=['A','B','C','D','E','F','G'], name='data')\n",
        "print(s)\n",
        "\n",
        "print(s.head())\n",
        "print(s.tail())"
      ],
      "metadata": {
        "colab": {
          "base_uri": "https://localhost:8080/"
        },
        "id": "mz0M1dcTfxER",
        "outputId": "60e376e4-c14a-4685-fbe4-bc30e9f9ba58"
      },
      "execution_count": 6,
      "outputs": [
        {
          "output_type": "stream",
          "name": "stdout",
          "text": [
            "A    10.0\n",
            "B     2.0\n",
            "C     NaN\n",
            "D     NaN\n",
            "E     3.0\n",
            "F     4.0\n",
            "G     5.0\n",
            "Name: data, dtype: float64\n",
            "A    10.0\n",
            "B     2.0\n",
            "C     NaN\n",
            "D     NaN\n",
            "E     3.0\n",
            "Name: data, dtype: float64\n",
            "C    NaN\n",
            "D    NaN\n",
            "E    3.0\n",
            "F    4.0\n",
            "G    5.0\n",
            "Name: data, dtype: float64\n"
          ]
        }
      ]
    },
    {
      "cell_type": "code",
      "source": [
        "# 查看所有的描述性信息\n",
        "print(s.describe())"
      ],
      "metadata": {
        "colab": {
          "base_uri": "https://localhost:8080/"
        },
        "id": "M5dNJdVUhBPx",
        "outputId": "64fecbe3-7ea6-496c-918a-9f54f8c66d80"
      },
      "execution_count": 9,
      "outputs": [
        {
          "output_type": "stream",
          "name": "stdout",
          "text": [
            "count     5.000000\n",
            "mean      4.800000\n",
            "std       3.114482\n",
            "min       2.000000\n",
            "25%       3.000000\n",
            "50%       4.000000\n",
            "75%       5.000000\n",
            "max      10.000000\n",
            "Name: data, dtype: float64\n"
          ]
        }
      ]
    },
    {
      "cell_type": "code",
      "source": [
        "# 获取元素个数（忽略缺失值）\n",
        "print(s.count())"
      ],
      "metadata": {
        "colab": {
          "base_uri": "https://localhost:8080/"
        },
        "id": "95IH89oShniq",
        "outputId": "b3ea9348-01d4-497b-9b34-3b19cf690423"
      },
      "execution_count": 10,
      "outputs": [
        {
          "output_type": "stream",
          "name": "stdout",
          "text": [
            "5\n"
          ]
        }
      ]
    },
    {
      "cell_type": "code",
      "source": [
        "# 获取索引\n",
        "print(s.keys()) # 方法\n",
        "print(s.index) # 属性"
      ],
      "metadata": {
        "colab": {
          "base_uri": "https://localhost:8080/"
        },
        "id": "wah-WyTghu03",
        "outputId": "9f36adcf-5dbf-4b42-afc6-fc88fb085fc5"
      },
      "execution_count": 13,
      "outputs": [
        {
          "output_type": "stream",
          "name": "stdout",
          "text": [
            "Index(['A', 'B', 'C', 'D', 'E', 'F', 'G'], dtype='object')\n",
            "Index(['A', 'B', 'C', 'D', 'E', 'F', 'G'], dtype='object')\n"
          ]
        }
      ]
    },
    {
      "cell_type": "code",
      "source": [
        "# 判断是否是缺失值\n",
        "print(s.isna())"
      ],
      "metadata": {
        "colab": {
          "base_uri": "https://localhost:8080/"
        },
        "id": "kwhdOU7viW4z",
        "outputId": "a652d243-98b5-43ab-d760-321261e8f218"
      },
      "execution_count": 33,
      "outputs": [
        {
          "output_type": "stream",
          "name": "stdout",
          "text": [
            "A    False\n",
            "B    False\n",
            "C     True\n",
            "D     True\n",
            "E    False\n",
            "F    False\n",
            "G    False\n",
            "Name: data, dtype: bool\n"
          ]
        }
      ]
    },
    {
      "cell_type": "code",
      "source": [
        "# 判断是否存在\n",
        "print(s.isin([4,5,6]))\n",
        "print(s > 6) # 注意比较上述两者的区别"
      ],
      "metadata": {
        "colab": {
          "base_uri": "https://localhost:8080/"
        },
        "id": "k28DVge_lOmv",
        "outputId": "1f3ddbad-95ca-4eec-bd33-3ee07a760624"
      },
      "execution_count": 34,
      "outputs": [
        {
          "output_type": "stream",
          "name": "stdout",
          "text": [
            "A    False\n",
            "B    False\n",
            "C    False\n",
            "D    False\n",
            "E    False\n",
            "F     True\n",
            "G     True\n",
            "Name: data, dtype: bool\n",
            "A     True\n",
            "B    False\n",
            "C    False\n",
            "D    False\n",
            "E    False\n",
            "F    False\n",
            "G    False\n",
            "Name: data, dtype: bool\n"
          ]
        }
      ]
    },
    {
      "cell_type": "code",
      "source": [
        "# 统计函数\n",
        "print('平均值：', s.mean())\n",
        "print('方差：', s.var())\n",
        "print('标准差：', s.std())\n",
        "print('中位数：', s.median())\n",
        "s['H'] = 2\n",
        "print('众数：', s.mode()) # 返回Series\n",
        "print('分位数（0.5）：', s.quantile(0.5)) # 注意和np.percentile的区别\n",
        "print('最大值：', s.max())\n",
        "print('最小值：', s.min())\n",
        "print('随机取样：\\n', s.sample(2))\n",
        "print('元素数量统计：\\n', s.value_counts()) # 里面加参数，可以显示占比"
      ],
      "metadata": {
        "colab": {
          "base_uri": "https://localhost:8080/"
        },
        "id": "T02z4sPMldLE",
        "outputId": "43db7c45-412e-4f7c-a836-53d25988b71c"
      },
      "execution_count": 65,
      "outputs": [
        {
          "output_type": "stream",
          "name": "stdout",
          "text": [
            "平均值： 4.333333333333333\n",
            "方差： 9.066666666666666\n",
            "标准差： 3.011090610836324\n",
            "中位数： 3.5\n",
            "众数： 0    2.0\n",
            "Name: data, dtype: float64\n",
            "分位数（0.5）： 3.5\n",
            "最大值： 10.0\n",
            "最小值： 2.0\n",
            "随机取样：\n",
            " F    4.0\n",
            "H    2.0\n",
            "Name: data, dtype: float64\n",
            "元素数量统计：\n",
            " data\n",
            "2.0     2\n",
            "10.0    1\n",
            "3.0     1\n",
            "4.0     1\n",
            "5.0     1\n",
            "Name: count, dtype: int64\n"
          ]
        }
      ]
    },
    {
      "cell_type": "code",
      "source": [
        "# 去重：drop_duplicates() 与 unique()\n",
        "# 两者返回类型不同，unique()返回Numpy类型数组(ndarray)，而drop_duplicates()返回新的Series()\n",
        "print(s.drop_duplicates())\n",
        "print(s.unique())"
      ],
      "metadata": {
        "colab": {
          "base_uri": "https://localhost:8080/"
        },
        "id": "8ajQs2CdnV_m",
        "outputId": "38d4e430-75ee-44f6-ee68-995369bbc4cf"
      },
      "execution_count": 73,
      "outputs": [
        {
          "output_type": "stream",
          "name": "stdout",
          "text": [
            "A    10.0\n",
            "B     2.0\n",
            "C     NaN\n",
            "E     3.0\n",
            "F     4.0\n",
            "G     5.0\n",
            "Name: data, dtype: float64\n",
            "[10.  2. nan  3.  4.  5.]\n"
          ]
        }
      ]
    },
    {
      "cell_type": "code",
      "source": [
        "# 排序 值、索引\n",
        "s.sort_index()\n",
        "s.sort_values()"
      ],
      "metadata": {
        "colab": {
          "base_uri": "https://localhost:8080/",
          "height": 335
        },
        "collapsed": true,
        "id": "CN0ED6kEqrAT",
        "outputId": "12d4c44d-2be7-4458-ab06-09fd254c20fe"
      },
      "execution_count": 76,
      "outputs": [
        {
          "output_type": "execute_result",
          "data": {
            "text/plain": [
              "B     2.0\n",
              "H     2.0\n",
              "E     3.0\n",
              "F     4.0\n",
              "G     5.0\n",
              "A    10.0\n",
              "C     NaN\n",
              "D     NaN\n",
              "Name: data, dtype: float64"
            ],
            "text/html": [
              "<div>\n",
              "<style scoped>\n",
              "    .dataframe tbody tr th:only-of-type {\n",
              "        vertical-align: middle;\n",
              "    }\n",
              "\n",
              "    .dataframe tbody tr th {\n",
              "        vertical-align: top;\n",
              "    }\n",
              "\n",
              "    .dataframe thead th {\n",
              "        text-align: right;\n",
              "    }\n",
              "</style>\n",
              "<table border=\"1\" class=\"dataframe\">\n",
              "  <thead>\n",
              "    <tr style=\"text-align: right;\">\n",
              "      <th></th>\n",
              "      <th>data</th>\n",
              "    </tr>\n",
              "  </thead>\n",
              "  <tbody>\n",
              "    <tr>\n",
              "      <th>B</th>\n",
              "      <td>2.0</td>\n",
              "    </tr>\n",
              "    <tr>\n",
              "      <th>H</th>\n",
              "      <td>2.0</td>\n",
              "    </tr>\n",
              "    <tr>\n",
              "      <th>E</th>\n",
              "      <td>3.0</td>\n",
              "    </tr>\n",
              "    <tr>\n",
              "      <th>F</th>\n",
              "      <td>4.0</td>\n",
              "    </tr>\n",
              "    <tr>\n",
              "      <th>G</th>\n",
              "      <td>5.0</td>\n",
              "    </tr>\n",
              "    <tr>\n",
              "      <th>A</th>\n",
              "      <td>10.0</td>\n",
              "    </tr>\n",
              "    <tr>\n",
              "      <th>C</th>\n",
              "      <td>NaN</td>\n",
              "    </tr>\n",
              "    <tr>\n",
              "      <th>D</th>\n",
              "      <td>NaN</td>\n",
              "    </tr>\n",
              "  </tbody>\n",
              "</table>\n",
              "</div><br><label><b>dtype:</b> float64</label>"
            ]
          },
          "metadata": {},
          "execution_count": 76
        }
      ]
    },
    {
      "cell_type": "markdown",
      "source": [
        "# Series案例\n",
        "## 学生成绩统计\n",
        "创建一个包含10名学生数学成绩的Series，成绩范围在50-100之间。\n",
        "\n",
        "计算平均分、最高分、最低分，并找出高于平局分的学生人数。\n"
      ],
      "metadata": {
        "id": "YUkZyEdYrHDq"
      }
    },
    {
      "cell_type": "code",
      "source": [
        "import numpy as np\n",
        "import pandas as pd\n",
        "\n",
        "# np.random.seed(42)\n",
        "# math_scores = pd.Series(np.random.randint(50,101,10), index=['学生'+str(i) for i in range(1,11)])\n",
        "\n",
        "# 注意：np.random.seed(42) 和 np.random.default_rng(seed=42) 虽然都是设置随机种子为 42，但是生成随机数的结果不同\n",
        "rng = np.random.default_rng(seed=42)\n",
        "values = rng.integers(50,101,size=10)\n",
        "indexes = (f'学生{i}' for i in range(1,11))\n",
        "math_scores = pd.Series(values, indexes, name='math_scores')\n",
        "print(math_scores)\n",
        "\n",
        "avg = math_scores.mean()\n",
        "print('平均分：', avg)\n",
        "print('最高分：', math_scores.max())\n",
        "print('最低分：', math_scores.min())\n",
        "# greater_avg = math_scores[math_scores > avg]\n",
        "# print('高于平均分的学生人数：', greater_avg.size)\n",
        "print('高于平均分的学生人数：', len(math_scores[math_scores > avg]))"
      ],
      "metadata": {
        "colab": {
          "base_uri": "https://localhost:8080/"
        },
        "id": "Aae1U-tCrFkQ",
        "outputId": "69a0bbd9-45c2-453a-c344-3bbdd99373a8"
      },
      "execution_count": 101,
      "outputs": [
        {
          "output_type": "stream",
          "name": "stdout",
          "text": [
            "学生1     54\n",
            "学生2     89\n",
            "学生3     83\n",
            "学生4     72\n",
            "学生5     72\n",
            "学生6     93\n",
            "学生7     54\n",
            "学生8     85\n",
            "学生9     60\n",
            "学生10    54\n",
            "Name: math_scores, dtype: int64\n",
            "平均分： 71.6\n",
            "最高分： 93\n",
            "最低分： 54\n",
            "高于平均分的学生人数： 6\n"
          ]
        }
      ]
    },
    {
      "cell_type": "markdown",
      "source": [
        "## 温度数据分析\n",
        "给定某城市一周每天的最高温度Series，完成以下任务：\n",
        "\n",
        "- 找出温度超过30度的天数\n",
        "- 计算平均温度\n",
        "- 将温度从高到低排序\n",
        "- 找出温度变化最大的两天\n",
        "\n",
        "temperatures = pd.Series([28, 31, 29, 32, 30, 27, 33], index=['周一','周二','周三','周四','周五','周六','周日'])\n"
      ],
      "metadata": {
        "id": "UiQRI0VfE0m2"
      }
    },
    {
      "cell_type": "code",
      "source": [
        "temps = pd.Series([28, 31, 29, 32, 30, 27, 33], index=['周一','周二','周三','周四','周五','周六','周日'])\n",
        "higher_temps = temps[temps > 30]\n",
        "print(f'温度超过30度的天数：{len(higher_temps.keys())}')\n",
        "print(f'平均温度：{temps.mean()}')\n",
        "print(f'温度从高到低排序：\\n{temps.sort_values(ascending=False)}')\n",
        "diffs = temps.diff().abs() # 计算Series的变化值\n",
        "print(f'温度变化最大的两天：{diffs.sort_values(ascending=False).keys()[:2].tolist()}')"
      ],
      "metadata": {
        "colab": {
          "base_uri": "https://localhost:8080/"
        },
        "id": "8fNiwvQrE5bq",
        "outputId": "51bf6515-17c8-4ef2-eacf-fbcf0905dc12"
      },
      "execution_count": 110,
      "outputs": [
        {
          "output_type": "stream",
          "name": "stdout",
          "text": [
            "温度超过30度的天数：3\n",
            "平均温度：30.0\n",
            "温度从高到低排序：\n",
            "周日    33\n",
            "周四    32\n",
            "周二    31\n",
            "周五    30\n",
            "周三    29\n",
            "周一    28\n",
            "周六    27\n",
            "dtype: int64\n",
            "温度变化最大的两天：['周日', '周二']\n"
          ]
        }
      ]
    },
    {
      "cell_type": "markdown",
      "source": [
        "## 股票价格分析\n",
        "\n",
        "给定某股票连续10个交易日的收盘价Series：\n",
        "\n",
        "- 计算每日收益率（当日收盘价/前日收盘价 - 1）\n",
        "- 找出收益率最高和最低的日期\n",
        "- 计算波动率（收益率的标准差）\n",
        "\n",
        "prices = pd.Series([102.3, 103.5, 105.1, 104.8, 106.2, 107.0, 106.5, 108.1, 109.3, 110.2], index=pd.date_range('2023-01-01',periods=10))\n"
      ],
      "metadata": {
        "id": "NNo5kRnwIn3G"
      }
    },
    {
      "cell_type": "code",
      "source": [
        "prices = pd.Series([102.3, 103.5, 105.1, 104.8, 106.2, 107.0, 106.5, 108.1, 109.3, 110.2],\n",
        "          index=pd.date_range('2025-8-15',periods=10))\n",
        "return_rate = prices.pct_change()\n",
        "print(f'每日收益率：\\n{return_rate}')\n",
        "print(f'收益率最高的日期：{return_rate.idxmax()}')\n",
        "print(f'收益率最低的日期：{return_rate.idxmin()}')\n",
        "print(f'波动率：{return_rate.std()}')"
      ],
      "metadata": {
        "colab": {
          "base_uri": "https://localhost:8080/"
        },
        "id": "2Gl1V_SYIsBl",
        "outputId": "8ba10fc7-1fb3-4772-9c42-df1995ca5cc4"
      },
      "execution_count": 119,
      "outputs": [
        {
          "output_type": "stream",
          "name": "stdout",
          "text": [
            "每日收益率：\n",
            "2025-08-15         NaN\n",
            "2025-08-16    0.011730\n",
            "2025-08-17    0.015459\n",
            "2025-08-18   -0.002854\n",
            "2025-08-19    0.013359\n",
            "2025-08-20    0.007533\n",
            "2025-08-21   -0.004673\n",
            "2025-08-22    0.015023\n",
            "2025-08-23    0.011101\n",
            "2025-08-24    0.008234\n",
            "Freq: D, dtype: float64\n",
            "收益率最高的日期：2025-08-17 00:00:00\n",
            "收益率最低的日期：2025-08-21 00:00:00\n",
            "波动率：0.007373623845361105\n"
          ]
        }
      ]
    }
  ]
}