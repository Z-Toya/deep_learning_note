{
  "nbformat": 4,
  "nbformat_minor": 0,
  "metadata": {
    "colab": {
      "provenance": [],
      "authorship_tag": "ABX9TyMViQyhcn9IpS41j8lAzhr4",
      "include_colab_link": true
    },
    "kernelspec": {
      "name": "python3",
      "display_name": "Python 3"
    },
    "language_info": {
      "name": "python"
    }
  },
  "cells": [
    {
      "cell_type": "markdown",
      "metadata": {
        "id": "view-in-github",
        "colab_type": "text"
      },
      "source": [
        "<a href=\"https://colab.research.google.com/github/Z-Toya/deep_learning_note/blob/main/code/numpy.ipynb\" target=\"_parent\"><img src=\"https://colab.research.google.com/assets/colab-badge.svg\" alt=\"Open In Colab\"/></a>"
      ]
    },
    {
      "cell_type": "code",
      "execution_count": null,
      "metadata": {
        "id": "G1bQvXU7Cu2q"
      },
      "outputs": [],
      "source": [
        "import numpy as np"
      ]
    },
    {
      "cell_type": "code",
      "source": [
        "arr = np.array([1,2,3,4,5])\n",
        "print(arr)\n",
        "print(arr.ndim)"
      ],
      "metadata": {
        "colab": {
          "base_uri": "https://localhost:8080/"
        },
        "id": "YP1h1ecSHgGQ",
        "outputId": "a1aaa879-61c3-4e58-be71-d373dc1e7acf"
      },
      "execution_count": null,
      "outputs": [
        {
          "output_type": "stream",
          "name": "stdout",
          "text": [
            "[1 2 3 4 5]\n",
            "1\n"
          ]
        }
      ]
    },
    {
      "cell_type": "code",
      "source": [
        "arr = np.array([1, 'hello'])\n",
        "print(arr)"
      ],
      "metadata": {
        "colab": {
          "base_uri": "https://localhost:8080/"
        },
        "id": "udOHgAtvIN3a",
        "outputId": "8186d470-4def-4c4d-91ca-8694f08b3058"
      },
      "execution_count": null,
      "outputs": [
        {
          "output_type": "stream",
          "name": "stdout",
          "text": [
            "['1' 'hello']\n"
          ]
        }
      ]
    },
    {
      "cell_type": "code",
      "source": [
        "arr = np.array([1,2,3])\n",
        "print(arr.ndim)\n",
        "print(arr)"
      ],
      "metadata": {
        "colab": {
          "base_uri": "https://localhost:8080/"
        },
        "id": "Uvhz0lMmMYNV",
        "outputId": "51be3025-269e-4e71-ad3b-a816aa605b45"
      },
      "execution_count": null,
      "outputs": [
        {
          "output_type": "stream",
          "name": "stdout",
          "text": [
            "1\n",
            "[1 2 3]\n"
          ]
        }
      ]
    },
    {
      "cell_type": "code",
      "source": [
        "# 全0 全1 未初始化 固定值\n",
        "arr1 = np.zeros((2,),dtype=int)\n",
        "arr2 = np.zeros((2,3),dtype=int)\n",
        "print(arr)"
      ],
      "metadata": {
        "colab": {
          "base_uri": "https://localhost:8080/"
        },
        "id": "NcYHmsgRNnxo",
        "outputId": "8388b3ce-66a3-44fb-b3b2-89fb9f8e0bcd"
      },
      "execution_count": null,
      "outputs": [
        {
          "output_type": "stream",
          "name": "stdout",
          "text": [
            "[[0. 0. 0.]\n",
            " [0. 0. 0.]]\n"
          ]
        }
      ]
    },
    {
      "cell_type": "code",
      "source": [
        "# 全1\n",
        "arr = np.ones((5,),dtype=int)\n",
        "print(arr)"
      ],
      "metadata": {
        "colab": {
          "base_uri": "https://localhost:8080/"
        },
        "id": "tgQ1DAsuOc4Z",
        "outputId": "c6e19d67-f73a-4664-d88b-0e3d8648a1b7"
      },
      "execution_count": null,
      "outputs": [
        {
          "output_type": "stream",
          "name": "stdout",
          "text": [
            "[1 1 1 1 1]\n"
          ]
        }
      ]
    },
    {
      "cell_type": "code",
      "source": [
        "# 未初始化\n",
        "arr = np.empty((2,3))\n",
        "print(arr)"
      ],
      "metadata": {
        "colab": {
          "base_uri": "https://localhost:8080/"
        },
        "id": "zUvdQetrOqIM",
        "outputId": "bb0f4614-3c03-482b-d9fb-07c99e1c4710"
      },
      "execution_count": null,
      "outputs": [
        {
          "output_type": "stream",
          "name": "stdout",
          "text": [
            "[[0. 0. 0.]\n",
            " [0. 0. 0.]]\n"
          ]
        }
      ]
    },
    {
      "cell_type": "code",
      "source": [
        "arr = np.full((3,4),2025)\n",
        "print(arr)"
      ],
      "metadata": {
        "colab": {
          "base_uri": "https://localhost:8080/"
        },
        "id": "HHkByckyPPzy",
        "outputId": "bbbc255a-ff0a-48e4-ae13-50707f1c407e"
      },
      "execution_count": null,
      "outputs": [
        {
          "output_type": "stream",
          "name": "stdout",
          "text": [
            "[[2025 2025 2025 2025]\n",
            " [2025 2025 2025 2025]\n",
            " [2025 2025 2025 2025]]\n"
          ]
        }
      ]
    },
    {
      "cell_type": "code",
      "source": [
        "arr1 = np.zeros_like(arr)\n",
        "print(arr1)"
      ],
      "metadata": {
        "colab": {
          "base_uri": "https://localhost:8080/"
        },
        "id": "Rhjb2yIAPoCO",
        "outputId": "45b87c39-8b87-4dd2-a505-c9bff2c927f8"
      },
      "execution_count": null,
      "outputs": [
        {
          "output_type": "stream",
          "name": "stdout",
          "text": [
            "[[0 0 0 0]\n",
            " [0 0 0 0]\n",
            " [0 0 0 0]]\n"
          ]
        }
      ]
    },
    {
      "cell_type": "code",
      "source": [
        "# 等差数列\n",
        "arr = np.arange(1,10,1) # start,end,step\n",
        "print(arr)"
      ],
      "metadata": {
        "colab": {
          "base_uri": "https://localhost:8080/"
        },
        "id": "SDrbnqQOQUMm",
        "outputId": "173467e2-3df0-4a5f-e41a-c9846201762a"
      },
      "execution_count": null,
      "outputs": [
        {
          "output_type": "stream",
          "name": "stdout",
          "text": [
            "[1 2 3 4 5 6 7 8 9]\n"
          ]
        }
      ]
    },
    {
      "cell_type": "code",
      "source": [
        "arr = np.arange(10)\n",
        "print(arr)"
      ],
      "metadata": {
        "colab": {
          "base_uri": "https://localhost:8080/"
        },
        "id": "jr50kVLMQvBL",
        "outputId": "cfcde40f-8628-4a22-faca-787a2e004a2f"
      },
      "execution_count": null,
      "outputs": [
        {
          "output_type": "stream",
          "name": "stdout",
          "text": [
            "[0 1 2 3 4 5 6 7 8 9]\n"
          ]
        }
      ]
    },
    {
      "cell_type": "code",
      "source": [
        "# 等间隔数列\n",
        "arr = np.linspace(1,10,5)\n",
        "print(arr)"
      ],
      "metadata": {
        "colab": {
          "base_uri": "https://localhost:8080/"
        },
        "id": "LdpjycmPQ76g",
        "outputId": "de8804e8-28f7-45c8-8625-39e326c51d92"
      },
      "execution_count": null,
      "outputs": [
        {
          "output_type": "stream",
          "name": "stdout",
          "text": [
            "[ 1.    3.25  5.5   7.75 10.  ]\n"
          ]
        }
      ]
    },
    {
      "cell_type": "code",
      "source": [
        "# 对数间隔数列\n",
        "arr = np.logspace(0,4,2,base=2)\n",
        "print(arr)\n",
        "\n",
        "arr = np.logspace(0,4,3,base=2)\n",
        "print(arr)"
      ],
      "metadata": {
        "colab": {
          "base_uri": "https://localhost:8080/"
        },
        "id": "aRNLHIUZRqsJ",
        "outputId": "4d7d866e-fbba-454c-c187-09ae7403de05"
      },
      "execution_count": null,
      "outputs": [
        {
          "output_type": "stream",
          "name": "stdout",
          "text": [
            "[ 1. 16.]\n",
            "[ 1.  4. 16.]\n"
          ]
        }
      ]
    },
    {
      "cell_type": "code",
      "source": [
        "# 特殊矩阵\n",
        "# 单位矩阵\n",
        "arr = np.eye(3,4,dtype=int) # 不加后面的4就是方阵\n",
        "print(arr)\n",
        "\n",
        "# 对角矩阵\n",
        "arr = np.diag([1,2,3])\n",
        "print(arr)"
      ],
      "metadata": {
        "colab": {
          "base_uri": "https://localhost:8080/"
        },
        "id": "jkTEDTxuVQ8C",
        "outputId": "4c007728-df26-4121-b086-4792ddd7e764"
      },
      "execution_count": null,
      "outputs": [
        {
          "output_type": "stream",
          "name": "stdout",
          "text": [
            "[[1 0 0 0]\n",
            " [0 1 0 0]\n",
            " [0 0 1 0]]\n",
            "[[1 0 0]\n",
            " [0 2 0]\n",
            " [0 0 3]]\n"
          ]
        }
      ]
    },
    {
      "cell_type": "code",
      "source": [
        "# 随机数组的生成\n",
        "# 生成0到1之间的随机浮点数（均匀分布）\n",
        "arr = np.random.rand(2,3)\n",
        "print(arr)\n",
        "\n",
        "# 生成指定范围区间内的随机浮点数（均匀分布）\n",
        "arr = np.random.uniform(3,6,(2,3))\n",
        "print(arr)"
      ],
      "metadata": {
        "colab": {
          "base_uri": "https://localhost:8080/"
        },
        "id": "P9OMcafoWS8E",
        "outputId": "fd290f1f-6d7f-4f05-a5db-044efd522bf3"
      },
      "execution_count": null,
      "outputs": [
        {
          "output_type": "stream",
          "name": "stdout",
          "text": [
            "[[0.29965968 0.81254775 0.00289498]\n",
            " [0.06621712 0.92451074 0.88306852]]\n",
            "[[5.96293233 3.92376248 5.42026115]\n",
            " [3.2786077  5.5069818  3.91766106]]\n"
          ]
        }
      ]
    },
    {
      "cell_type": "code",
      "source": [
        "# 生成指定范围区间的随机整数\n",
        "arr = np.random.randint(3,30,(2,3))\n",
        "print(arr)"
      ],
      "metadata": {
        "colab": {
          "base_uri": "https://localhost:8080/"
        },
        "id": "cam2SzPXW1BU",
        "outputId": "add05a1d-89b2-4339-e2ef-2a22778a780e"
      },
      "execution_count": null,
      "outputs": [
        {
          "output_type": "stream",
          "name": "stdout",
          "text": [
            "[[29 13  4]\n",
            " [ 3  7 28]]\n"
          ]
        }
      ]
    },
    {
      "cell_type": "code",
      "source": [
        "# 生成随机数列（正态分布）\n",
        "arr = np.random.randn(2,3)\n",
        "print(arr)"
      ],
      "metadata": {
        "colab": {
          "base_uri": "https://localhost:8080/"
        },
        "id": "hPvoeU8nXC_j",
        "outputId": "bd14f8f8-6fee-4691-ded0-77d9cbc0d7e6"
      },
      "execution_count": null,
      "outputs": [
        {
          "output_type": "stream",
          "name": "stdout",
          "text": [
            "[[-1.12423669 -0.20021014 -0.72611745]\n",
            " [-1.38210366 -0.58444512 -1.6302119 ]]\n"
          ]
        }
      ]
    },
    {
      "cell_type": "code",
      "source": [
        "# 设置随机种子\n",
        "np.random.seed(20)\n",
        "arr = np.random.randint(1,10,(2,5))\n",
        "print(arr)"
      ],
      "metadata": {
        "colab": {
          "base_uri": "https://localhost:8080/"
        },
        "id": "Oc68zAQ5Xr5l",
        "outputId": "27397922-7844-4d6f-e7c3-2be9c4041662"
      },
      "execution_count": null,
      "outputs": [
        {
          "output_type": "stream",
          "name": "stdout",
          "text": [
            "[[4 5 7 8 3]\n",
            " [1 7 9 6 4]]\n"
          ]
        }
      ]
    },
    {
      "cell_type": "code",
      "source": [
        "# 一维数组的索引与切片\n",
        "arr = np.random.randint(1,100,20)\n",
        "print(arr)\n",
        "print(arr[10])\n",
        "print(arr[:]) # 获取全部的数据\n",
        "print(arr[2:5]) # start:end+1 作闭右开区间\n",
        "print(arr[slice(2,15,3)]) # start,end,step\n",
        "print(arr[ (arr>10) & (arr<70) ]) # 布尔索引"
      ],
      "metadata": {
        "colab": {
          "base_uri": "https://localhost:8080/"
        },
        "id": "MUVEDVtcgQwH",
        "outputId": "f423db00-d795-4c9b-c1de-33960e2e9b86"
      },
      "execution_count": null,
      "outputs": [
        {
          "output_type": "stream",
          "name": "stdout",
          "text": [
            "[64 25 78 70 85 90 29 31 33 53 23 77 85 48 33 49 51 35 82 38]\n",
            "23\n",
            "[64 25 78 70 85 90 29 31 33 53 23 77 85 48 33 49 51 35 82 38]\n",
            "[78 70 85]\n",
            "[78 90 33 77 33]\n",
            "[64 25 29 31 33 53 23 48 33 49 51 35 38]\n"
          ]
        }
      ]
    },
    {
      "cell_type": "code",
      "source": [
        "# 二维数组的索引与切片\n",
        "arr = np.random.randint(1,100,(4,8))\n",
        "print(arr)\n",
        "print(arr[1,3])\n",
        "print(arr[:,:]) # 获取全部数据\n",
        "print(arr[1,2:5])\n",
        "print(arr[arr>50]) # 返回一维的结果\n",
        "print(arr[2][arr[2]>50]) # 返回第三行大于50的元素，注意嵌套\n",
        "print(arr[:,3]) # 返回第四列"
      ],
      "metadata": {
        "id": "qV5WMdnJiDFe",
        "colab": {
          "base_uri": "https://localhost:8080/"
        },
        "outputId": "6cede0e6-bcc7-4766-d524-cf17a14d827b"
      },
      "execution_count": null,
      "outputs": [
        {
          "output_type": "stream",
          "name": "stdout",
          "text": [
            "[[93 51 50 10 26 53 62 38]\n",
            " [29 72 50 30  5 69 84 74]\n",
            " [94 64 33 27 93 38 43 53]\n",
            " [84 11 31 80 61 61 85 51]]\n",
            "30\n",
            "[[93 51 50 10 26 53 62 38]\n",
            " [29 72 50 30  5 69 84 74]\n",
            " [94 64 33 27 93 38 43 53]\n",
            " [84 11 31 80 61 61 85 51]]\n",
            "[50 30  5]\n",
            "[93 51 53 62 72 69 84 74 94 64 93 53 84 80 61 61 85 51]\n",
            "[94 64 93 53]\n",
            "[10 30 27 80]\n"
          ]
        }
      ]
    },
    {
      "cell_type": "code",
      "source": [
        "# 算术运算\n",
        "a = np.array([1,2,3])\n",
        "b = np.array([4,5,6])\n",
        "print(a + b)\n",
        "print(a - b)\n",
        "print(a * b)\n",
        "print(a / b)\n",
        "print(a ** b)"
      ],
      "metadata": {
        "colab": {
          "base_uri": "https://localhost:8080/"
        },
        "id": "QSniH4BZlwJX",
        "outputId": "ed4f1708-049a-42e2-d1c4-4e1e3d09d325"
      },
      "execution_count": null,
      "outputs": [
        {
          "output_type": "stream",
          "name": "stdout",
          "text": [
            "[5 7 9]\n",
            "[-3 -3 -3]\n",
            "[ 4 10 18]\n",
            "[0.25 0.4  0.5 ]\n",
            "[  1  32 729]\n"
          ]
        }
      ]
    },
    {
      "cell_type": "code",
      "source": [
        "# 数组与标量的算术运算\n",
        "a = np.array([[1,2,3],[4,5,6],[7,8,9]])\n",
        "print(a + 3)\n",
        "print(a * 3)"
      ],
      "metadata": {
        "colab": {
          "base_uri": "https://localhost:8080/"
        },
        "id": "zWLRf-T-nKZ5",
        "outputId": "1dacdf7c-9cd7-48e7-9a14-dd8748218a09"
      },
      "execution_count": null,
      "outputs": [
        {
          "output_type": "stream",
          "name": "stdout",
          "text": [
            "[[ 4  5  6]\n",
            " [ 7  8  9]\n",
            " [10 11 12]]\n",
            "[[ 3  6  9]\n",
            " [12 15 18]\n",
            " [21 24 27]]\n"
          ]
        }
      ]
    },
    {
      "cell_type": "code",
      "source": [
        "# 广播机制：1.获取形状 2.是否可以广播\n",
        "# 广播条件：所有维度相同或者有一个维度是1\n",
        "a = np.array([1,2,3]) # 1*3\n",
        "b = np.array([[4],[5],[6]]) # 3*1\n",
        "print(a + b)\n",
        "'''\n",
        "分析：\n",
        "a\n",
        "1 2 3\n",
        "1 2 3\n",
        "1 2 3\n",
        "b\n",
        "4 4 4\n",
        "5 5 5\n",
        "6 6 6\n",
        "'''"
      ],
      "metadata": {
        "colab": {
          "base_uri": "https://localhost:8080/"
        },
        "id": "KYptgD2Gnq9H",
        "outputId": "5ad41ed8-12e0-4970-c1a6-307054541f8d"
      },
      "execution_count": null,
      "outputs": [
        {
          "output_type": "stream",
          "name": "stdout",
          "text": [
            "[[5 6 7]\n",
            " [6 7 8]\n",
            " [7 8 9]]\n"
          ]
        }
      ]
    },
    {
      "cell_type": "code",
      "source": [
        "a = np.array([1,2,3]) # 1*3\n",
        "b = np.array([4,5]) # 1*2\n",
        "print(a + b)"
      ],
      "metadata": {
        "colab": {
          "base_uri": "https://localhost:8080/",
          "height": 187
        },
        "id": "qQHoqge1ojmU",
        "outputId": "2fe02d78-5bd3-474f-f05f-9360053e5c45"
      },
      "execution_count": null,
      "outputs": [
        {
          "output_type": "error",
          "ename": "ValueError",
          "evalue": "operands could not be broadcast together with shapes (3,) (2,) ",
          "traceback": [
            "\u001b[0;31m---------------------------------------------------------------------------\u001b[0m",
            "\u001b[0;31mValueError\u001b[0m                                Traceback (most recent call last)",
            "\u001b[0;32m/tmp/ipython-input-1651296882.py\u001b[0m in \u001b[0;36m<cell line: 0>\u001b[0;34m()\u001b[0m\n\u001b[1;32m      1\u001b[0m \u001b[0ma\u001b[0m \u001b[0;34m=\u001b[0m \u001b[0mnp\u001b[0m\u001b[0;34m.\u001b[0m\u001b[0marray\u001b[0m\u001b[0;34m(\u001b[0m\u001b[0;34m[\u001b[0m\u001b[0;36m1\u001b[0m\u001b[0;34m,\u001b[0m\u001b[0;36m2\u001b[0m\u001b[0;34m,\u001b[0m\u001b[0;36m3\u001b[0m\u001b[0;34m]\u001b[0m\u001b[0;34m)\u001b[0m \u001b[0;31m# 1*3\u001b[0m\u001b[0;34m\u001b[0m\u001b[0;34m\u001b[0m\u001b[0m\n\u001b[1;32m      2\u001b[0m \u001b[0mb\u001b[0m \u001b[0;34m=\u001b[0m \u001b[0mnp\u001b[0m\u001b[0;34m.\u001b[0m\u001b[0marray\u001b[0m\u001b[0;34m(\u001b[0m\u001b[0;34m[\u001b[0m\u001b[0;36m4\u001b[0m\u001b[0;34m,\u001b[0m\u001b[0;36m5\u001b[0m\u001b[0;34m]\u001b[0m\u001b[0;34m)\u001b[0m \u001b[0;31m# 1*2\u001b[0m\u001b[0;34m\u001b[0m\u001b[0;34m\u001b[0m\u001b[0m\n\u001b[0;32m----> 3\u001b[0;31m \u001b[0mprint\u001b[0m\u001b[0;34m(\u001b[0m\u001b[0ma\u001b[0m \u001b[0;34m+\u001b[0m \u001b[0mb\u001b[0m\u001b[0;34m)\u001b[0m\u001b[0;34m\u001b[0m\u001b[0;34m\u001b[0m\u001b[0m\n\u001b[0m",
            "\u001b[0;31mValueError\u001b[0m: operands could not be broadcast together with shapes (3,) (2,) "
          ]
        }
      ]
    },
    {
      "cell_type": "code",
      "source": [
        "# 矩阵运算\n",
        "a = np.array([[1,2,3],[4,5,6],[7,8,9]])\n",
        "b = np.array([[4,5,6],[7,8,9],[1,2,3]])\n",
        "print(a * b) # 对应元素相乘\n",
        "print(a @ b) # 矩阵乘法"
      ],
      "metadata": {
        "colab": {
          "base_uri": "https://localhost:8080/"
        },
        "id": "-djPk4-7pONQ",
        "outputId": "5de74c6c-3253-4ef6-c1a1-acc7257020a0"
      },
      "execution_count": null,
      "outputs": [
        {
          "output_type": "stream",
          "name": "stdout",
          "text": [
            "[[ 4 10 18]\n",
            " [28 40 54]\n",
            " [ 7 16 27]]\n",
            "[[ 21  27  33]\n",
            " [ 57  72  87]\n",
            " [ 93 117 141]]\n"
          ]
        }
      ]
    },
    {
      "cell_type": "code",
      "source": [
        "# 基本数学函数\n",
        "# 计算平方根\n",
        "print(np.sqrt(9)) # 标量\n",
        "print(np.sqrt([1,4,9])) # 列表\n",
        "arr = np.array([1,25,81]) # ndarray\n",
        "print(np.sqrt(arr))\n",
        "\n",
        "# 计算指数\n",
        "print(np.exp(1))\n",
        "\n",
        "# 计算自然对数\n",
        "print(np.log(2.71))\n",
        "\n",
        "# 计算正弦值、余弦值\n",
        "print(np.sin(np.pi/2))\n",
        "print(np.cos(np.pi))\n",
        "\n",
        "# 计算绝对值\n",
        "arr = np.array([-1, 1, 2, -3])\n",
        "print(np.abs(arr))\n",
        "\n",
        "# 计算a的b次幂\n",
        "print(np.power(arr,2))\n",
        "\n",
        "# 四舍五入\n",
        "print(np.round([3.2, 4.5, 4.51, 8.1, 9.6])) # 注意4.5和4.51的结果\n",
        "\n",
        "# 向上取整，向下取整\n",
        "arr = np.array([1.6, 25.1, 81.7])\n",
        "print(np.ceil(arr))\n",
        "print(np.floor(arr))\n",
        "\n",
        "# 检测缺失值NaN\n",
        "np.isnan([1,2,np.nan,3])"
      ],
      "metadata": {
        "colab": {
          "base_uri": "https://localhost:8080/"
        },
        "id": "2Khzkwcq5dqJ",
        "outputId": "0bad74f8-3a77-4aee-e4f3-637a68259d96"
      },
      "execution_count": null,
      "outputs": [
        {
          "output_type": "stream",
          "name": "stdout",
          "text": [
            "3.0\n",
            "[1. 2. 3.]\n",
            "[1. 5. 9.]\n",
            "2.718281828459045\n",
            "0.9969486348916096\n",
            "1.0\n",
            "-1.0\n",
            "[1 1 2 3]\n",
            "[1 1 4 9]\n",
            "[ 3.  4.  5.  8. 10.]\n",
            "[ 2. 26. 82.]\n",
            "[ 1. 25. 81.]\n"
          ]
        },
        {
          "output_type": "execute_result",
          "data": {
            "text/plain": [
              "array([False, False,  True, False])"
            ]
          },
          "metadata": {},
          "execution_count": 43
        }
      ]
    },
    {
      "cell_type": "code",
      "source": [
        "# 统计函数\n",
        "arr = np.random.randint(1,20,8)\n",
        "print(arr)\n",
        "\n",
        "# 求和\n",
        "print(np.sum(arr))\n",
        "\n",
        "# 计算平均值\n",
        "print(np.mean(arr))\n",
        "\n",
        "# 计算中位数\n",
        "# 奇数：排序后中间的数值\n",
        "# 偶数：中间的两个数的平均值\n",
        "print(np.median(np.median([4,1,2])))\n",
        "print(np.median([1,2,4,8]))\n",
        "\n",
        "# 计算标准差、方差\n",
        "# 1,2,3 的平均值 2\n",
        "# ((1-2)^2 + (2-2)^2 + (3-2)^2) / 3 = 0.666\n",
        "print(np.var([1,2,3]))\n",
        "print(np.std([1,2,3]))\n",
        "print(np.var(arr))\n",
        "print(np.std(arr))"
      ],
      "metadata": {
        "colab": {
          "base_uri": "https://localhost:8080/"
        },
        "id": "otiinNan82Df",
        "outputId": "a0933329-5459-4087-929b-6392f74e3409"
      },
      "execution_count": null,
      "outputs": [
        {
          "output_type": "stream",
          "name": "stdout",
          "text": [
            "[19  2 12  1 11 15  4 18]\n",
            "82\n",
            "10.25\n",
            "2.0\n",
            "3.0\n",
            "0.6666666666666666\n",
            "0.816496580927726\n",
            "44.4375\n",
            "6.6661458129866915\n"
          ]
        }
      ]
    },
    {
      "cell_type": "code",
      "source": [
        "# 均值与方差对比\n",
        "# 衡量数据稳定性（好坏）---方差\n",
        "arr1 = np.array([1,2,1,2,1,1,1,2])\n",
        "arr2 = np.array([1,0,3,0,0,0,4,3])\n",
        "print(np.mean(arr1))\n",
        "print(np.mean(arr2))\n",
        "print(np.var(arr1))\n",
        "print(np.var(arr2))"
      ],
      "metadata": {
        "colab": {
          "base_uri": "https://localhost:8080/"
        },
        "id": "N91BmS9gI0cP",
        "outputId": "c66afd3e-307b-4451-80c5-8b3358e4c313"
      },
      "execution_count": null,
      "outputs": [
        {
          "output_type": "stream",
          "name": "stdout",
          "text": [
            "1.375\n",
            "1.375\n",
            "0.234375\n",
            "2.484375\n"
          ]
        }
      ]
    },
    {
      "cell_type": "code",
      "source": [
        "# 计算最大值、最小值\n",
        "print(arr)\n",
        "print(np.max(arr), np.argmax(arr))\n",
        "print(np.min(arr), np.argmin(arr))"
      ],
      "metadata": {
        "colab": {
          "base_uri": "https://localhost:8080/"
        },
        "id": "Rm1rdJSAKXNU",
        "outputId": "52576d10-6368-4d3a-c5b3-0be808aa77be"
      },
      "execution_count": null,
      "outputs": [
        {
          "output_type": "stream",
          "name": "stdout",
          "text": [
            "[19  2 12  1 11 15  4 18]\n",
            "19 0\n",
            "1 3\n"
          ]
        }
      ]
    },
    {
      "cell_type": "code",
      "source": [
        "# 分位数\n",
        "# 中位数\n",
        "np.random.seed(0)\n",
        "arr = np.random.randint(0,100,4)\n",
        "print(arr)\n",
        "# ---------------------\n",
        "# 44  47  64  67\n",
        "print(np.median(arr))\n",
        "print(np.percentile(arr,50)) # 分位数，等效于median\n",
        "print(np.percentile(arr,25))\n",
        "# 计算策略：\n",
        "# 数轴上一共有3段\n",
        "# 0.25*3 = 0.75 (在第一段)，所以加上第一段起始部分\n",
        "# (47-44)*0.75 + 44 = 46.25\n",
        "print(np.percentile(arr,80))\n",
        "# 3*0.8 = 2.4 (在第三段)\n",
        "# (67-64)*0.4 + 64 = 65.2"
      ],
      "metadata": {
        "colab": {
          "base_uri": "https://localhost:8080/"
        },
        "id": "uZmgQFzLReSl",
        "outputId": "dcd93cfe-cb2e-46a3-fec3-6505c6b24df1"
      },
      "execution_count": null,
      "outputs": [
        {
          "output_type": "stream",
          "name": "stdout",
          "text": [
            "[44 47 64 67]\n",
            "55.5\n",
            "55.5\n",
            "46.25\n",
            "65.2\n"
          ]
        }
      ]
    },
    {
      "cell_type": "code",
      "source": [
        "# 累积和、累积积\n",
        "arr = np.array([1,2,3])\n",
        "print(np.sum(arr))\n",
        "print(np.cumsum(arr)) # 可以理解为前缀和\n",
        "print(np.cumprod(arr))"
      ],
      "metadata": {
        "colab": {
          "base_uri": "https://localhost:8080/"
        },
        "id": "-yAXxUmSZV9B",
        "outputId": "c69b34a2-27a3-49cb-ecf5-0e43f0e3749f"
      },
      "execution_count": null,
      "outputs": [
        {
          "output_type": "stream",
          "name": "stdout",
          "text": [
            "6\n",
            "[1 3 6]\n",
            "[1 2 6]\n"
          ]
        }
      ]
    },
    {
      "cell_type": "code",
      "source": [
        "# 比较函数\n",
        "# 是否大于\n",
        "print(np.greater([3,4,5,6,7],4))\n",
        "# 是否小于\n",
        "print(np.less([3,4,5,6,7,8],4))\n",
        "# 是否等于\n",
        "print(np.equal([3,4,5,6,7,8],4))\n",
        "print(np.equal([3,4,5],[4,4,4]))"
      ],
      "metadata": {
        "colab": {
          "base_uri": "https://localhost:8080/"
        },
        "id": "T2jORkaGjyv0",
        "outputId": "f0fcfaaf-cd9b-4a43-f29f-3a1028f3ac07"
      },
      "execution_count": null,
      "outputs": [
        {
          "output_type": "stream",
          "name": "stdout",
          "text": [
            "[False False  True  True  True]\n",
            "[ True False False False False False]\n",
            "[False  True False False False False]\n",
            "[False  True False]\n"
          ]
        }
      ]
    },
    {
      "cell_type": "code",
      "source": [
        "# 逻辑运算\n",
        "# 逻辑与\n",
        "print(np.logical_and([1,0],[1,1]))\n",
        "print(np.logical_or([0,0],[1,0]))\n",
        "print(np.logical_not([1,0]))"
      ],
      "metadata": {
        "colab": {
          "base_uri": "https://localhost:8080/"
        },
        "id": "xG1auhrOlJng",
        "outputId": "25970c07-bab3-4c50-abb1-dc5ec6adc54c"
      },
      "execution_count": null,
      "outputs": [
        {
          "output_type": "stream",
          "name": "stdout",
          "text": [
            "[ True False]\n",
            "[ True False]\n",
            "[False  True]\n"
          ]
        }
      ]
    },
    {
      "cell_type": "code",
      "source": [
        "# 检查元素是否至少有一个元素为True\n",
        "print(np.any([0,0,0,0,0,0]))\n",
        "# 检查元素是否全部为True\n",
        "print(np.all([1,1,1,0,0,0]))"
      ],
      "metadata": {
        "colab": {
          "base_uri": "https://localhost:8080/"
        },
        "id": "azSgmb6mlpMB",
        "outputId": "7491cfaa-2f0e-4376-e4f2-c71fd23d4793"
      },
      "execution_count": null,
      "outputs": [
        {
          "output_type": "stream",
          "name": "stdout",
          "text": [
            "False\n",
            "False\n"
          ]
        }
      ]
    },
    {
      "cell_type": "code",
      "source": [
        "# 自定义条件\n",
        "# np.where(条件，符合条件，不符合条件的)\n",
        "arr = np.array([1,2,3,4,5])\n",
        "print(np.where(arr<3,arr,0)) # 做二分类、三分类\n",
        "\n",
        "# eg：\n",
        "arr = np.array([1,2,3,4,5])\n",
        "print(np.where(arr<3,1,0))\n",
        "\n",
        "score = np.random.randint(50,100,20)\n",
        "print(score)\n",
        "print(np.where(score>=60,'及格','不及格'))\n",
        "\n",
        "# 三分类（嵌套）\n",
        "print(np.where(\n",
        "    score<60,'不及格',np.where(\n",
        "      score<70,'及格',np.where(\n",
        "          score<80,'良好','优秀'\n",
        "      )\n",
        "  )\n",
        "))"
      ],
      "metadata": {
        "colab": {
          "base_uri": "https://localhost:8080/"
        },
        "id": "HICwn0rlmDLk",
        "outputId": "98063405-ed21-42e2-e448-28750997aaef"
      },
      "execution_count": null,
      "outputs": [
        {
          "output_type": "stream",
          "name": "stdout",
          "text": [
            "[1 2 0 0 0]\n",
            "[1 1 0 0 0]\n",
            "[54 97 53 62 86 90 64 65 70 85 73 65 63 71 98 99 55 91 85 50]\n",
            "['不及格' '及格' '不及格' '及格' '及格' '及格' '及格' '及格' '及格' '及格' '及格' '及格' '及格' '及格'\n",
            " '及格' '及格' '不及格' '及格' '及格' '不及格']\n",
            "['不及格' '优秀' '不及格' '及格' '优秀' '优秀' '及格' '及格' '良好' '优秀' '良好' '及格' '及格' '良好'\n",
            " '优秀' '优秀' '不及格' '优秀' '优秀' '不及格']\n"
          ]
        }
      ]
    },
    {
      "cell_type": "code",
      "source": [
        "# np.select(条件，返回的结果)\n",
        "print(np.select([score>=80,score>=70,score>=60,score<60],\n",
        "        ['优秀','良好','及格','不及格'],\n",
        "        default='未知'))"
      ],
      "metadata": {
        "colab": {
          "base_uri": "https://localhost:8080/"
        },
        "id": "yN26tGaMmfYO",
        "outputId": "8a991a06-c2d6-4b71-f50f-6c26d1ce91f9"
      },
      "execution_count": null,
      "outputs": [
        {
          "output_type": "stream",
          "name": "stdout",
          "text": [
            "['不及格' '优秀' '不及格' '及格' '优秀' '优秀' '及格' '及格' '良好' '优秀' '良好' '及格' '及格' '良好'\n",
            " '优秀' '优秀' '不及格' '优秀' '优秀' '不及格']\n"
          ]
        }
      ]
    },
    {
      "cell_type": "code",
      "source": [
        "# 排序函数\n",
        "np.random.seed(0)\n",
        "arr = np.random.randint(1,100,20)\n",
        "print(arr)\n",
        "# arr.sort()\n",
        "# print(arr)\n",
        "print(np.sort(np.sort(arr))) # np.sort()不修改arr\n",
        "print(np.argsort(arr)) # 获取排序前的元素索引\n",
        "print(arr)"
      ],
      "metadata": {
        "colab": {
          "base_uri": "https://localhost:8080/"
        },
        "id": "0rcrRge-ptkQ",
        "outputId": "90faedea-af74-4b95-e95a-d19cd4f16e9a"
      },
      "execution_count": null,
      "outputs": [
        {
          "output_type": "stream",
          "name": "stdout",
          "text": [
            "[45 48 65 68 68 10 84 22 37 88 71 89 89 13 59 66 40 88 47 89]\n",
            "[10 13 22 37 40 45 47 48 59 65 66 68 68 71 84 88 88 89 89 89]\n",
            "[ 5 13  7  8 16  0 18  1 14  2 15  3  4 10  6  9 17 11 12 19]\n",
            "[45 48 65 68 68 10 84 22 37 88 71 89 89 13 59 66 40 88 47 89]\n"
          ]
        }
      ]
    },
    {
      "cell_type": "code",
      "source": [
        "# 去重函数\n",
        "print(np.unique(arr)) # 去重的同时还会排序"
      ],
      "metadata": {
        "colab": {
          "base_uri": "https://localhost:8080/"
        },
        "id": "MbCWiBi_qyKN",
        "outputId": "3b27c83f-beaf-4666-ff73-fc767f4a897d"
      },
      "execution_count": null,
      "outputs": [
        {
          "output_type": "stream",
          "name": "stdout",
          "text": [
            "[10 13 22 37 40 45 47 48 59 65 66 68 71 84 88 89]\n",
            "[45 48 65 68 68 10 84 22 37 88 71 89 89 13 59 66 40 88 47 89]\n"
          ]
        }
      ]
    },
    {
      "cell_type": "code",
      "source": [
        "# 数组的拼接\n",
        "arr1 = np.array([1,2,3])\n",
        "arr2 = np.array([4,5,6])\n",
        "print(arr1+arr2)\n",
        "print(np.concatenate((arr1,arr2)))"
      ],
      "metadata": {
        "colab": {
          "base_uri": "https://localhost:8080/"
        },
        "id": "TsbsAWSjrDGQ",
        "outputId": "50e7401e-e5af-4397-b50c-336b5492485c"
      },
      "execution_count": null,
      "outputs": [
        {
          "output_type": "stream",
          "name": "stdout",
          "text": [
            "[5 7 9]\n",
            "[1 2 3 4 5 6]\n"
          ]
        }
      ]
    },
    {
      "cell_type": "code",
      "source": [
        "# 数组的分割\n",
        "print(np.split(arr,5)) # 必须刚好等分\n",
        "print(np.split(arr,[6,12,18])) # 不能等分的情况必须分段"
      ],
      "metadata": {
        "colab": {
          "base_uri": "https://localhost:8080/"
        },
        "id": "biDdS8oGrdXu",
        "outputId": "6e861d56-fa4c-4194-c061-d05af279fd23"
      },
      "execution_count": null,
      "outputs": [
        {
          "output_type": "stream",
          "name": "stdout",
          "text": [
            "[array([45, 48, 65, 68]), array([68, 10, 84, 22]), array([37, 88, 71, 89]), array([89, 13, 59, 66]), array([40, 88, 47, 89])]\n",
            "[array([45, 48, 65, 68, 68, 10]), array([84, 22, 37, 88, 71, 89]), array([89, 13, 59, 66, 40, 88]), array([47, 89])]\n"
          ]
        }
      ]
    },
    {
      "cell_type": "code",
      "source": [
        "# 调整数组的形状\n",
        "print(np.reshape(arr,[5,4]))"
      ],
      "metadata": {
        "colab": {
          "base_uri": "https://localhost:8080/"
        },
        "id": "wpCfJ2_QrzTN",
        "outputId": "4a85e73d-2a54-4c8c-e6f3-ac89bb9ac86b"
      },
      "execution_count": null,
      "outputs": [
        {
          "output_type": "stream",
          "name": "stdout",
          "text": [
            "[[45 48 65 68]\n",
            " [68 10 84 22]\n",
            " [37 88 71 89]\n",
            " [89 13 59 66]\n",
            " [40 88 47 89]]\n"
          ]
        }
      ]
    },
    {
      "cell_type": "markdown",
      "source": [
        "# 案例练习\n",
        "\n",
        "## 温度数据分析\n",
        "\n",
        "某城市一周的最高气温（℃）为 [28, 30, 29, 31, 32, 30, 29]\n",
        "\n",
        "- 计算平均气温、最高气温和最低气温\n",
        "- 找出气温超过 30 ℃ 的天数"
      ],
      "metadata": {
        "id": "CQf_PVeV44CM"
      }
    },
    {
      "cell_type": "code",
      "source": [
        "temps = np.array([28, 30, 29, 31, 32, 30, 29])\n",
        "print(temps)\n",
        "print('平均气温：', '%.3f'%np.mean(temps))\n",
        "print('最高气温：', np.max(temps))\n",
        "print('最低气温：', np.min(temps))\n",
        "print('气温超过30的天数：', len(temps[temps>30]))\n",
        "print('气温超过30的天数：', np.sum(np.where(temps>30,1,0)))\n",
        "print('气温超过30的天数：', np.count_nonzero(temps>30))"
      ],
      "metadata": {
        "id": "06OBBDVM3PNH",
        "colab": {
          "base_uri": "https://localhost:8080/"
        },
        "outputId": "4190b176-364f-43f8-b112-f6a4523c1b6a"
      },
      "execution_count": 61,
      "outputs": [
        {
          "output_type": "stream",
          "name": "stdout",
          "text": [
            "[28 30 29 31 32 30 29]\n",
            "平均气温： 29.857\n",
            "最高气温： 32\n",
            "最低气温： 28\n",
            "气温超过30的天数： 2\n",
            "气温超过30的天数： 2\n",
            "气温超过30的天数： 2\n"
          ]
        }
      ]
    },
    {
      "cell_type": "markdown",
      "source": [
        "## 学生成绩统计\n",
        "\n",
        "某班级 5 名学生的数学成绩为 [85, 90, 78, 92, 88]\n",
        "\n",
        "- 计算成绩的平均分、中位数和标准差\n",
        "- 将成绩转化为十分制（假设满分为10）\n"
      ],
      "metadata": {
        "id": "mPd1IdV17iNp"
      }
    },
    {
      "cell_type": "code",
      "source": [
        "score = np.array([85, 90, 78, 92, 88])\n",
        "print('平均分：', np.mean(score))\n",
        "print('中位数：', np.median(score))\n",
        "print('中位数：', np.percentile(score,50))\n",
        "print('标准差：%.3f'% np.std(score))\n",
        "print(score/10)"
      ],
      "metadata": {
        "colab": {
          "base_uri": "https://localhost:8080/"
        },
        "id": "SAuBxFwT7hI5",
        "outputId": "5e0329f7-66c0-4189-ad5e-a170f73ba559"
      },
      "execution_count": 63,
      "outputs": [
        {
          "output_type": "stream",
          "name": "stdout",
          "text": [
            "平均分： 86.6\n",
            "中位数： 88.0\n",
            "中位数： 88.0\n",
            "标准差：4.883\n",
            "[8.5 9.  7.8 9.2 8.8]\n"
          ]
        }
      ]
    },
    {
      "cell_type": "markdown",
      "source": [
        "## 矩阵运算\n",
        "\n",
        "给定矩阵 A = [[1, 2], [3, 4]] 和 B = [[5, 6], [7, 8]]\n",
        "\n",
        "- 计算 A + B 和 A * B （逐元素乘法）\n",
        "- 计算 A 和 B 的矩阵乘法（点积）\n"
      ],
      "metadata": {
        "id": "juubsoc_9x1j"
      }
    },
    {
      "cell_type": "code",
      "source": [
        "A = np.array([[1, 2], [3, 4]])\n",
        "B = np.array([[5, 6], [7, 8]])\n",
        "print('A + B：')\n",
        "print(A + B)\n",
        "print('A 和 B 逐元素相乘：')\n",
        "print(A * B)\n",
        "print('A 和 B 矩阵相乘：')\n",
        "print(A @ B)"
      ],
      "metadata": {
        "colab": {
          "base_uri": "https://localhost:8080/"
        },
        "id": "U4epEJCZ9vrN",
        "outputId": "7905efb1-6430-4da4-9a9f-2e646b17534d"
      },
      "execution_count": 64,
      "outputs": [
        {
          "output_type": "stream",
          "name": "stdout",
          "text": [
            "A + B：\n",
            "[[ 6  8]\n",
            " [10 12]]\n",
            "A 和 B 逐元素相乘：\n",
            "[[ 5 12]\n",
            " [21 32]]\n",
            "A 和 B 矩阵相乘：\n",
            "[[19 22]\n",
            " [43 50]]\n"
          ]
        }
      ]
    },
    {
      "cell_type": "markdown",
      "source": [
        "## 随机数据生成\n",
        "\n",
        "生成一个 （3,4）的随机整数数组，范围 [0, 10]\n",
        "\n",
        "- 计算每列的最大值和每行的最小值\n",
        "- 将数组的所有奇数替换为 -1\n"
      ],
      "metadata": {
        "id": "UWTu-f3L-4tR"
      }
    },
    {
      "cell_type": "code",
      "source": [
        "np.random.seed(0)\n",
        "arr = np.random.randint(0,10,[3,4])\n",
        "# arr = np.random.randint(0,10,(3,4)) # 上述两种括号都可以\n",
        "# arr = np.random.randint(0,10,12).reshape([3,4])\n",
        "print(arr)\n",
        "print('每列的最大值：', np.max(arr,axis=0)) # axis=0 列 axis=1 行\n",
        "print('每列的最小值', np.min(arr, axis=1))\n",
        "# 第一种\n",
        "print(np.where(arr%2==1,-1,arr))\n",
        "# 第二种\n",
        "print(np.select([arr%2==1],[-1],default=arr))\n",
        "# 第三种(会修改arr的值)\n",
        "arr[arr%2==1] = -1\n",
        "print(arr)"
      ],
      "metadata": {
        "colab": {
          "base_uri": "https://localhost:8080/"
        },
        "id": "OX_MK6-J-8sj",
        "outputId": "5077326c-69d5-4461-fbca-372438043115"
      },
      "execution_count": 87,
      "outputs": [
        {
          "output_type": "stream",
          "name": "stdout",
          "text": [
            "[[5 0 3 3]\n",
            " [7 9 3 5]\n",
            " [2 4 7 6]]\n",
            "每列的最大值： [7 9 7 6]\n",
            "每列的最小值 [0 3 2]\n",
            "[[-1  0 -1 -1]\n",
            " [-1 -1 -1 -1]\n",
            " [ 2  4 -1  6]]\n",
            "[[-1  0 -1 -1]\n",
            " [-1 -1 -1 -1]\n",
            " [ 2  4 -1  6]]\n",
            "[[-1  0 -1 -1]\n",
            " [-1 -1 -1 -1]\n",
            " [ 2  4 -1  6]]\n"
          ]
        }
      ]
    },
    {
      "cell_type": "markdown",
      "source": [
        "## 数组变型\n",
        "\n",
        "创建一个 1 到 12 的一维数组，并转换为（3, 4）的二维数组\n",
        "\n",
        "- 计算每行的和每列的平均值\n",
        "- 将数组展平为一维数组\n"
      ],
      "metadata": {
        "id": "fl1Ks0mRCvG0"
      }
    },
    {
      "cell_type": "code",
      "source": [
        "arr = np.arange(1,13).reshape(3,4)\n",
        "print(arr)\n",
        "print('每列的平均值：', np.mean(arr, axis=0))\n",
        "print('每行的和：', np.sum(arr, axis=1))\n",
        "# print(arr.reshape(12))\n",
        "print(np.reshape(arr,(12)))"
      ],
      "metadata": {
        "colab": {
          "base_uri": "https://localhost:8080/"
        },
        "id": "Kk7mety_CyEE",
        "outputId": "6575ca22-0b81-4de5-daf5-444861603f17"
      },
      "execution_count": 101,
      "outputs": [
        {
          "output_type": "stream",
          "name": "stdout",
          "text": [
            "[[ 1  2  3  4]\n",
            " [ 5  6  7  8]\n",
            " [ 9 10 11 12]]\n",
            "每列的平均值： [5. 6. 7. 8.]\n",
            "每行的和： [10 26 42]\n",
            "[ 1  2  3  4  5  6  7  8  9 10 11 12]\n"
          ]
        }
      ]
    },
    {
      "cell_type": "markdown",
      "source": [
        "## 布尔索引\n",
        "\n",
        "生成一个 （5, 5）的随机数组，范围 [0, 20)\n",
        "\n",
        "- 找出数组中大于 10 的元素\n",
        "- 将所有大于 10 的元素替换为0"
      ],
      "metadata": {
        "id": "ZD895FkIFu5k"
      }
    },
    {
      "cell_type": "code",
      "source": [
        "np.random.seed(1)\n",
        "arr = np.random.randint(0,20,(5,5))\n",
        "print(arr)\n",
        "print(arr[arr>10])\n",
        "print(np.where(arr>10,0,arr))"
      ],
      "metadata": {
        "colab": {
          "base_uri": "https://localhost:8080/"
        },
        "id": "woaOj8x7FyXX",
        "outputId": "24427d0f-93b5-464c-c37e-4628453ac317"
      },
      "execution_count": 104,
      "outputs": [
        {
          "output_type": "stream",
          "name": "stdout",
          "text": [
            "[[ 5 11 12  8  9]\n",
            " [11  5 15  0 16]\n",
            " [ 1 12  7 13  6]\n",
            " [18  5 18 11 10]\n",
            " [14 18  4  9 17]]\n",
            "[11 12 11 15 16 12 13 18 18 11 14 18 17]\n",
            "[[ 5  0  0  8  9]\n",
            " [ 0  5  0  0  0]\n",
            " [ 1  0  7  0  6]\n",
            " [ 0  5  0  0 10]\n",
            " [ 0  0  4  9  0]]\n"
          ]
        }
      ]
    },
    {
      "cell_type": "markdown",
      "source": [
        "## 统计函数应用\n",
        "\n",
        "某公司 6 个月的销售额 （万元） 为 [120, 135, 110, 125, 130, 140]\n",
        "\n",
        "- 计算销售额的总和、均值和方差\n",
        "- 找出销售额最高的月份和最低的月份\n"
      ],
      "metadata": {
        "id": "LuDMv0u6G9cW"
      }
    },
    {
      "cell_type": "code",
      "source": [
        "sales = np.array([120, 135, 110, 125, 130, 140])\n",
        "print('销售额总和：', np.sum(sales))\n",
        "print('销售额均值：%.3f'% np.mean(sales))\n",
        "print('销售额方差：%.3f'% np.var(sales))\n",
        "print('销售额最高月份：', np.argmax(sales) + 1)\n",
        "print('销售额最低月份：', np.argmin(sales) + 1)"
      ],
      "metadata": {
        "colab": {
          "base_uri": "https://localhost:8080/"
        },
        "id": "tUR4bgAUHBWY",
        "outputId": "1bf56360-f9ae-4af9-d8ba-ab2bf83e43ee"
      },
      "execution_count": 110,
      "outputs": [
        {
          "output_type": "stream",
          "name": "stdout",
          "text": [
            "销售额总和： 760\n",
            "销售额均值：126.667\n",
            "销售额方差：97.222\n",
            "销售额最高月份： 6\n",
            "销售额最低月份： 3\n"
          ]
        }
      ]
    },
    {
      "cell_type": "markdown",
      "source": [
        "## 数组拼接\n",
        "\n",
        "给定 A = [1, 2, 3] 和 B = [4, 5, 6]\n",
        "\n",
        "- 将 A 和 B 水平拼接为一个新数组\n",
        "- 将 A 和 B 垂直拼接为一个新数组"
      ],
      "metadata": {
        "id": "6IKfdJcgSjHP"
      }
    },
    {
      "cell_type": "code",
      "source": [
        "A = np.array([1, 2, 3])\n",
        "B = np.array([4, 5, 6])\n",
        "# 水平方向拼接\n",
        "print(np.hstack((A,B)))\n",
        "print(np.concatenate((A,B)))\n",
        "\n",
        "# 垂直方向拼接\n",
        "# print(np.reshape(C,(2,3)))\n",
        "print(np.vstack((A,B)))\n",
        "# 另一种方式是将 A 和 B 升维，从一维变成二维，再通过修改axis参数拼接\n",
        "# 升维操作通过np.newaxis实现\n",
        "A1 = A[np.newaxis, :]\n",
        "B1= B[np.newaxis, :]\n",
        "print(np.concatenate((A1,B1),axis=0))"
      ],
      "metadata": {
        "colab": {
          "base_uri": "https://localhost:8080/"
        },
        "id": "eijgNIcUSm3q",
        "outputId": "532bd4ad-f78f-479b-ca60-7ed67aead74e"
      },
      "execution_count": 126,
      "outputs": [
        {
          "output_type": "stream",
          "name": "stdout",
          "text": [
            "[1 2 3 4 5 6]\n",
            "[1 2 3 4 5 6]\n",
            "[[1 2 3]\n",
            " [4 5 6]]\n",
            "[[1 2 3]\n",
            " [4 5 6]]\n"
          ]
        }
      ]
    },
    {
      "cell_type": "markdown",
      "source": [
        "## 唯一值与排序\n",
        "\n",
        "给定数组 [2, 1, 2, 3, 1, 4, 3]\n",
        "\n",
        "- 找出数组中的唯一值并排序\n",
        "- 计算每个唯一值出现的次数\n"
      ],
      "metadata": {
        "id": "uB2p24KXOKc5"
      }
    },
    {
      "cell_type": "code",
      "source": [
        "arr = np.array([2, 1, 2, 3, 1, 4, 3])\n",
        "# 第一种，可以返回额外参数\n",
        "# u_arr,counts = np.unique(arr,return_counts=True)\n",
        "# print(u_arr)\n",
        "# print(counts)\n",
        "\n",
        "# 第二种，for循环实现\n",
        "'''\n",
        "if 'len' in globals():\n",
        "  del len\n",
        "d = []\n",
        "arr_len = len(u_arr)\n",
        "for i in range(arr_len):\n",
        "  d = d+[len(arr[arr==u_arr[i]])]\n",
        "print(d)\n",
        "'''\n",
        "# 第三种\n",
        "print(np.unique(arr))\n",
        "print(np.unique_counts(arr))"
      ],
      "metadata": {
        "colab": {
          "base_uri": "https://localhost:8080/"
        },
        "id": "OkCHdYv4OMxX",
        "outputId": "6256692d-9097-487d-c1a0-19494b194b37"
      },
      "execution_count": 134,
      "outputs": [
        {
          "output_type": "stream",
          "name": "stdout",
          "text": [
            "[1 2 3 4]\n",
            "UniqueCountsResult(values=array([1, 2, 3, 4]), counts=array([2, 2, 2, 1]))\n"
          ]
        }
      ]
    }
  ]
}