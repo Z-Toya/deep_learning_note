{
  "nbformat": 4,
  "nbformat_minor": 0,
  "metadata": {
    "colab": {
      "provenance": [],
      "authorship_tag": "ABX9TyOle4GmZRLB42scMwXqpeGX",
      "include_colab_link": true
    },
    "kernelspec": {
      "name": "python3",
      "display_name": "Python 3"
    },
    "language_info": {
      "name": "python"
    }
  },
  "cells": [
    {
      "cell_type": "markdown",
      "metadata": {
        "id": "view-in-github",
        "colab_type": "text"
      },
      "source": [
        "<a href=\"https://colab.research.google.com/github/Z-Toya/deep_learning_note/blob/main/code/numpy.ipynb\" target=\"_parent\"><img src=\"https://colab.research.google.com/assets/colab-badge.svg\" alt=\"Open In Colab\"/></a>"
      ]
    },
    {
      "cell_type": "code",
      "execution_count": 3,
      "metadata": {
        "id": "G1bQvXU7Cu2q"
      },
      "outputs": [],
      "source": [
        "import numpy as np"
      ]
    },
    {
      "cell_type": "code",
      "source": [
        "arr = np.array([1,2,3,4,5])\n",
        "print(arr)\n",
        "print(arr.ndim)"
      ],
      "metadata": {
        "colab": {
          "base_uri": "https://localhost:8080/"
        },
        "id": "YP1h1ecSHgGQ",
        "outputId": "a1aaa879-61c3-4e58-be71-d373dc1e7acf"
      },
      "execution_count": null,
      "outputs": [
        {
          "output_type": "stream",
          "name": "stdout",
          "text": [
            "[1 2 3 4 5]\n",
            "1\n"
          ]
        }
      ]
    },
    {
      "cell_type": "code",
      "source": [
        "arr = np.array([1, 'hello'])\n",
        "print(arr)"
      ],
      "metadata": {
        "colab": {
          "base_uri": "https://localhost:8080/"
        },
        "id": "udOHgAtvIN3a",
        "outputId": "8186d470-4def-4c4d-91ca-8694f08b3058"
      },
      "execution_count": null,
      "outputs": [
        {
          "output_type": "stream",
          "name": "stdout",
          "text": [
            "['1' 'hello']\n"
          ]
        }
      ]
    },
    {
      "cell_type": "code",
      "source": [
        "arr = np.array([1,2,3])\n",
        "print(arr.ndim)\n",
        "print(arr)"
      ],
      "metadata": {
        "colab": {
          "base_uri": "https://localhost:8080/"
        },
        "id": "Uvhz0lMmMYNV",
        "outputId": "51be3025-269e-4e71-ad3b-a816aa605b45"
      },
      "execution_count": null,
      "outputs": [
        {
          "output_type": "stream",
          "name": "stdout",
          "text": [
            "1\n",
            "[1 2 3]\n"
          ]
        }
      ]
    },
    {
      "cell_type": "code",
      "source": [
        "# 全0 全1 未初始化 固定值\n",
        "arr1 = np.zeros((2,),dtype=int)\n",
        "arr2 = np.zeros((2,3),dtype=int)\n",
        "print(arr)"
      ],
      "metadata": {
        "colab": {
          "base_uri": "https://localhost:8080/"
        },
        "id": "NcYHmsgRNnxo",
        "outputId": "8388b3ce-66a3-44fb-b3b2-89fb9f8e0bcd"
      },
      "execution_count": null,
      "outputs": [
        {
          "output_type": "stream",
          "name": "stdout",
          "text": [
            "[[0. 0. 0.]\n",
            " [0. 0. 0.]]\n"
          ]
        }
      ]
    },
    {
      "cell_type": "code",
      "source": [
        "# 全1\n",
        "arr = np.ones((5,),dtype=int)\n",
        "print(arr)"
      ],
      "metadata": {
        "colab": {
          "base_uri": "https://localhost:8080/"
        },
        "id": "tgQ1DAsuOc4Z",
        "outputId": "c6e19d67-f73a-4664-d88b-0e3d8648a1b7"
      },
      "execution_count": null,
      "outputs": [
        {
          "output_type": "stream",
          "name": "stdout",
          "text": [
            "[1 1 1 1 1]\n"
          ]
        }
      ]
    },
    {
      "cell_type": "code",
      "source": [
        "# 未初始化\n",
        "arr = np.empty((2,3))\n",
        "print(arr)"
      ],
      "metadata": {
        "colab": {
          "base_uri": "https://localhost:8080/"
        },
        "id": "zUvdQetrOqIM",
        "outputId": "bb0f4614-3c03-482b-d9fb-07c99e1c4710"
      },
      "execution_count": null,
      "outputs": [
        {
          "output_type": "stream",
          "name": "stdout",
          "text": [
            "[[0. 0. 0.]\n",
            " [0. 0. 0.]]\n"
          ]
        }
      ]
    },
    {
      "cell_type": "code",
      "source": [
        "arr = np.full((3,4),2025)\n",
        "print(arr)"
      ],
      "metadata": {
        "colab": {
          "base_uri": "https://localhost:8080/"
        },
        "id": "HHkByckyPPzy",
        "outputId": "bbbc255a-ff0a-48e4-ae13-50707f1c407e"
      },
      "execution_count": null,
      "outputs": [
        {
          "output_type": "stream",
          "name": "stdout",
          "text": [
            "[[2025 2025 2025 2025]\n",
            " [2025 2025 2025 2025]\n",
            " [2025 2025 2025 2025]]\n"
          ]
        }
      ]
    },
    {
      "cell_type": "code",
      "source": [
        "arr1 = np.zeros_like(arr)\n",
        "print(arr1)"
      ],
      "metadata": {
        "colab": {
          "base_uri": "https://localhost:8080/"
        },
        "id": "Rhjb2yIAPoCO",
        "outputId": "45b87c39-8b87-4dd2-a505-c9bff2c927f8"
      },
      "execution_count": null,
      "outputs": [
        {
          "output_type": "stream",
          "name": "stdout",
          "text": [
            "[[0 0 0 0]\n",
            " [0 0 0 0]\n",
            " [0 0 0 0]]\n"
          ]
        }
      ]
    },
    {
      "cell_type": "code",
      "source": [
        "# 等差数列\n",
        "arr = np.arange(1,10,1) # start,end,step\n",
        "print(arr)"
      ],
      "metadata": {
        "colab": {
          "base_uri": "https://localhost:8080/"
        },
        "id": "SDrbnqQOQUMm",
        "outputId": "173467e2-3df0-4a5f-e41a-c9846201762a"
      },
      "execution_count": null,
      "outputs": [
        {
          "output_type": "stream",
          "name": "stdout",
          "text": [
            "[1 2 3 4 5 6 7 8 9]\n"
          ]
        }
      ]
    },
    {
      "cell_type": "code",
      "source": [
        "arr = np.arange(10)\n",
        "print(arr)"
      ],
      "metadata": {
        "colab": {
          "base_uri": "https://localhost:8080/"
        },
        "id": "jr50kVLMQvBL",
        "outputId": "cfcde40f-8628-4a22-faca-787a2e004a2f"
      },
      "execution_count": null,
      "outputs": [
        {
          "output_type": "stream",
          "name": "stdout",
          "text": [
            "[0 1 2 3 4 5 6 7 8 9]\n"
          ]
        }
      ]
    },
    {
      "cell_type": "code",
      "source": [
        "# 等间隔数列\n",
        "arr = np.linspace(1,10,5)\n",
        "print(arr)"
      ],
      "metadata": {
        "colab": {
          "base_uri": "https://localhost:8080/"
        },
        "id": "LdpjycmPQ76g",
        "outputId": "de8804e8-28f7-45c8-8625-39e326c51d92"
      },
      "execution_count": null,
      "outputs": [
        {
          "output_type": "stream",
          "name": "stdout",
          "text": [
            "[ 1.    3.25  5.5   7.75 10.  ]\n"
          ]
        }
      ]
    },
    {
      "cell_type": "code",
      "source": [
        "# 对数间隔数列\n",
        "arr = np.logspace(0,4,2,base=2)\n",
        "print(arr)\n",
        "\n",
        "arr = np.logspace(0,4,3,base=2)\n",
        "print(arr)"
      ],
      "metadata": {
        "colab": {
          "base_uri": "https://localhost:8080/"
        },
        "id": "aRNLHIUZRqsJ",
        "outputId": "4d7d866e-fbba-454c-c187-09ae7403de05"
      },
      "execution_count": null,
      "outputs": [
        {
          "output_type": "stream",
          "name": "stdout",
          "text": [
            "[ 1. 16.]\n",
            "[ 1.  4. 16.]\n"
          ]
        }
      ]
    },
    {
      "cell_type": "code",
      "source": [
        "# 特殊矩阵\n",
        "# 单位矩阵\n",
        "arr = np.eye(3,4,dtype=int) # 不加后面的4就是方阵\n",
        "print(arr)\n",
        "\n",
        "# 对角矩阵\n",
        "arr = np.diag([1,2,3])\n",
        "print(arr)"
      ],
      "metadata": {
        "colab": {
          "base_uri": "https://localhost:8080/"
        },
        "id": "jkTEDTxuVQ8C",
        "outputId": "4c007728-df26-4121-b086-4792ddd7e764"
      },
      "execution_count": null,
      "outputs": [
        {
          "output_type": "stream",
          "name": "stdout",
          "text": [
            "[[1 0 0 0]\n",
            " [0 1 0 0]\n",
            " [0 0 1 0]]\n",
            "[[1 0 0]\n",
            " [0 2 0]\n",
            " [0 0 3]]\n"
          ]
        }
      ]
    },
    {
      "cell_type": "code",
      "source": [
        "# 随机数组的生成\n",
        "# 生成0到1之间的随机浮点数（均匀分布）\n",
        "arr = np.random.rand(2,3)\n",
        "print(arr)\n",
        "\n",
        "# 生成指定范围区间内的随机浮点数（均匀分布）\n",
        "arr = np.random.uniform(3,6,(2,3))\n",
        "print(arr)"
      ],
      "metadata": {
        "colab": {
          "base_uri": "https://localhost:8080/"
        },
        "id": "P9OMcafoWS8E",
        "outputId": "fd290f1f-6d7f-4f05-a5db-044efd522bf3"
      },
      "execution_count": null,
      "outputs": [
        {
          "output_type": "stream",
          "name": "stdout",
          "text": [
            "[[0.29965968 0.81254775 0.00289498]\n",
            " [0.06621712 0.92451074 0.88306852]]\n",
            "[[5.96293233 3.92376248 5.42026115]\n",
            " [3.2786077  5.5069818  3.91766106]]\n"
          ]
        }
      ]
    },
    {
      "cell_type": "code",
      "source": [
        "# 生成指定范围区间的随机整数\n",
        "arr = np.random.randint(3,30,(2,3))\n",
        "print(arr)"
      ],
      "metadata": {
        "colab": {
          "base_uri": "https://localhost:8080/"
        },
        "id": "cam2SzPXW1BU",
        "outputId": "add05a1d-89b2-4339-e2ef-2a22778a780e"
      },
      "execution_count": null,
      "outputs": [
        {
          "output_type": "stream",
          "name": "stdout",
          "text": [
            "[[29 13  4]\n",
            " [ 3  7 28]]\n"
          ]
        }
      ]
    },
    {
      "cell_type": "code",
      "source": [
        "# 生成随机数列（正态分布）\n",
        "arr = np.random.randn(2,3)\n",
        "print(arr)"
      ],
      "metadata": {
        "colab": {
          "base_uri": "https://localhost:8080/"
        },
        "id": "hPvoeU8nXC_j",
        "outputId": "bd14f8f8-6fee-4691-ded0-77d9cbc0d7e6"
      },
      "execution_count": null,
      "outputs": [
        {
          "output_type": "stream",
          "name": "stdout",
          "text": [
            "[[-1.12423669 -0.20021014 -0.72611745]\n",
            " [-1.38210366 -0.58444512 -1.6302119 ]]\n"
          ]
        }
      ]
    },
    {
      "cell_type": "code",
      "source": [
        "# 设置随机种子\n",
        "np.random.seed(20)\n",
        "arr = np.random.randint(1,10,(2,5))\n",
        "print(arr)"
      ],
      "metadata": {
        "colab": {
          "base_uri": "https://localhost:8080/"
        },
        "id": "Oc68zAQ5Xr5l",
        "outputId": "27397922-7844-4d6f-e7c3-2be9c4041662"
      },
      "execution_count": null,
      "outputs": [
        {
          "output_type": "stream",
          "name": "stdout",
          "text": [
            "[[4 5 7 8 3]\n",
            " [1 7 9 6 4]]\n"
          ]
        }
      ]
    },
    {
      "cell_type": "code",
      "source": [
        "# 一维数组的索引与切片\n",
        "arr = np.random.randint(1,100,20)\n",
        "print(arr)\n",
        "print(arr[10])\n",
        "print(arr[:]) # 获取全部的数据\n",
        "print(arr[2:5]) # start:end+1 作闭右开区间\n",
        "print(arr[slice(2,15,3)]) # start,end,step\n",
        "print(arr[ (arr>10) & (arr<70) ]) # 布尔索引"
      ],
      "metadata": {
        "colab": {
          "base_uri": "https://localhost:8080/"
        },
        "id": "MUVEDVtcgQwH",
        "outputId": "f423db00-d795-4c9b-c1de-33960e2e9b86"
      },
      "execution_count": 6,
      "outputs": [
        {
          "output_type": "stream",
          "name": "stdout",
          "text": [
            "[64 25 78 70 85 90 29 31 33 53 23 77 85 48 33 49 51 35 82 38]\n",
            "23\n",
            "[64 25 78 70 85 90 29 31 33 53 23 77 85 48 33 49 51 35 82 38]\n",
            "[78 70 85]\n",
            "[78 90 33 77 33]\n",
            "[64 25 29 31 33 53 23 48 33 49 51 35 38]\n"
          ]
        }
      ]
    },
    {
      "cell_type": "markdown",
      "source": [
        "# 二维数组的索引与切片\n",
        "arr = np.random.randint(1,100,(4,8))\n",
        "print(arr)\n",
        "print(arr[1,3])\n",
        "print(arr[:,:]) # 获取全部数据\n",
        "print(arr[1,2:5])\n",
        "print(arr[arr>50]) # 返回一维的结果\n",
        "print(arr[2][arr[2]>50]) # 返回第三行大于50的元素，注意嵌套\n",
        "print(arr[:,3]) # 返回第四列\\\\"
      ],
      "metadata": {
        "id": "qV5WMdnJiDFe"
      }
    }
  ]
}