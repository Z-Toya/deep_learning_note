{
  "nbformat": 4,
  "nbformat_minor": 0,
  "metadata": {
    "colab": {
      "provenance": [],
      "authorship_tag": "ABX9TyMZzHXgSGOxWLMLGDD7hfEv",
      "include_colab_link": true
    },
    "kernelspec": {
      "name": "python3",
      "display_name": "Python 3"
    },
    "language_info": {
      "name": "python"
    }
  },
  "cells": [
    {
      "cell_type": "markdown",
      "metadata": {
        "id": "view-in-github",
        "colab_type": "text"
      },
      "source": [
        "<a href=\"https://colab.research.google.com/github/Z-Toya/deep_learning_note/blob/main/code/pandas.ipynb\" target=\"_parent\"><img src=\"https://colab.research.google.com/assets/colab-badge.svg\" alt=\"Open In Colab\"/></a>"
      ]
    },
    {
      "cell_type": "code",
      "execution_count": 7,
      "metadata": {
        "colab": {
          "base_uri": "https://localhost:8080/"
        },
        "id": "IcreVAHr0VaY",
        "outputId": "43295110-290b-45d1-d98b-281486518773"
      },
      "outputs": [
        {
          "output_type": "stream",
          "name": "stdout",
          "text": [
            "0    1\n",
            "1    2\n",
            "2    3\n",
            "3    4\n",
            "4    5\n",
            "dtype: int64\n",
            "A    1\n",
            "B    2\n",
            "C    3\n",
            "D    4\n",
            "E    5\n",
            "dtype: int64\n",
            "A    1\n",
            "B    2\n",
            "C    3\n",
            "D    4\n",
            "E    5\n",
            "Name: 月份, dtype: int64\n"
          ]
        }
      ],
      "source": [
        "# Series的创建\n",
        "import pandas as pd\n",
        "\n",
        "s = pd.Series([1,2,3,4,5])\n",
        "print(s)\n",
        "\n",
        "# 自定义索引\n",
        "s = pd.Series([1,2,3,4,5], index=['A','B','C','D','E'])\n",
        "print(s)\n",
        "\n",
        "# 定义name\n",
        "s = pd.Series([1,2,3,4,5], index=['A','B','C','D','E'], name='月份')\n",
        "print(s)"
      ]
    },
    {
      "cell_type": "code",
      "source": [
        "# 通过字典创建\n",
        "s = pd.Series({'a':1, 'b':2, 'c':3, 'd':4, 'e':5})\n",
        "print(s)\n",
        "s1 = pd.Series(s,index=['a','c'])\n",
        "print(s1)"
      ],
      "metadata": {
        "colab": {
          "base_uri": "https://localhost:8080/"
        },
        "id": "yL-I_8zp5TRv",
        "outputId": "3a04db35-5ae9-483c-9d87-6cfc08019060"
      },
      "execution_count": 9,
      "outputs": [
        {
          "output_type": "stream",
          "name": "stdout",
          "text": [
            "a    1\n",
            "b    2\n",
            "c    3\n",
            "d    4\n",
            "e    5\n",
            "dtype: int64\n",
            "a    1\n",
            "c    3\n",
            "dtype: int64\n"
          ]
        }
      ]
    },
    {
      "cell_type": "code",
      "source": [
        "print(s)\n",
        "print(s.index)\n",
        "print(s.values)\n",
        "print(s.shape, s.ndim, s.size)\n",
        "s.name = 'test'\n",
        "print(s.dtype, s.name)\n",
        "print(s.loc['a':'c'])\n",
        "print(s.iloc[0:2])\n",
        "print(s.at['a']) # 不支持切片\n",
        "print(s.iat[0]) # 不支持切片"
      ],
      "metadata": {
        "colab": {
          "base_uri": "https://localhost:8080/"
        },
        "id": "7-TUJr_86Qvf",
        "outputId": "780c10f0-11a3-4ab9-afee-64f1edaf3f1d"
      },
      "execution_count": 15,
      "outputs": [
        {
          "output_type": "stream",
          "name": "stdout",
          "text": [
            "a    1\n",
            "b    2\n",
            "c    3\n",
            "d    4\n",
            "e    5\n",
            "Name: test, dtype: int64\n",
            "Index(['a', 'b', 'c', 'd', 'e'], dtype='object')\n",
            "[1 2 3 4 5]\n",
            "(5,) 1 5\n",
            "int64 test\n",
            "a    1\n",
            "b    2\n",
            "c    3\n",
            "Name: test, dtype: int64\n",
            "a    1\n",
            "b    2\n",
            "Name: test, dtype: int64\n",
            "1\n",
            "1\n"
          ]
        }
      ]
    },
    {
      "cell_type": "code",
      "source": [
        "# 访问数据\n",
        "print(s)\n",
        "# print(s[1]) # 不推荐使用，容易混淆\n",
        "print(s['a']) # 通过标签\n",
        "print(s[s<3]) # 布尔索引\n",
        "s['f'] = 6\n",
        "print(s.head()) # 返回前五行数据\n",
        "print(s.tail()) # 返回后五行数据"
      ],
      "metadata": {
        "colab": {
          "base_uri": "https://localhost:8080/"
        },
        "id": "d22QWZQl8cUl",
        "outputId": "18ffffa0-6971-481b-90f6-7913c28c194b"
      },
      "execution_count": 20,
      "outputs": [
        {
          "output_type": "stream",
          "name": "stdout",
          "text": [
            "a    1\n",
            "b    2\n",
            "c    3\n",
            "d    4\n",
            "e    5\n",
            "Name: test, dtype: int64\n",
            "1\n",
            "a    1\n",
            "b    2\n",
            "Name: test, dtype: int64\n",
            "a    1\n",
            "b    2\n",
            "c    3\n",
            "d    4\n",
            "e    5\n",
            "Name: test, dtype: int64\n",
            "b    2\n",
            "c    3\n",
            "d    4\n",
            "e    5\n",
            "f    6\n",
            "Name: test, dtype: int64\n"
          ]
        }
      ]
    }
  ]
}